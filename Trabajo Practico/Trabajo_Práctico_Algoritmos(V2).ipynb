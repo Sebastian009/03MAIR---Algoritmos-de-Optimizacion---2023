{
  "cells": [
    {
      "cell_type": "markdown",
      "metadata": {
        "colab_type": "text",
        "id": "view-in-github"
      },
      "source": [
        "<a href=\"https://colab.research.google.com/github/Sebastian009/03MAIR---Algoritmos-de-Optimizacion---2023/blob/main/Trabajo_Pr%C3%A1ctico_Algoritmos(V2).ipynb\" target=\"_parent\"><img src=\"https://colab.research.google.com/assets/colab-badge.svg\" alt=\"Open In Colab\"/></a>"
      ]
    },
    {
      "cell_type": "markdown",
      "metadata": {
        "id": "hVbXYX-RfPWh"
      },
      "source": [
        "# Algoritmos de optimización - Trabajo Práctico<br>\n",
        "Nombre y Apellidos: Juan Sebastian Casallas Estrella  <br>\n",
        "Url: https://github.com/Sebastian009/03MAIR---Algoritmos-de-Optimizacion---2023<br>\n",
        "Google Colab: https://colab.research.google.com/drive/xxxxxxxxxxxxxxxx <br>\n",
        "Problema:\n",
        ">1. Sesiones de doblaje <br>\n",
        ">2. Organizar los horarios de partidos de La Liga<br>\n",
        ">3. Configuración de Tribunales\n",
        "\n",
        "Descripción del problema:(copiar enunciado)\n",
        "\n",
        "....\n",
        "\n",
        "\n",
        "\n",
        "\n",
        "\n",
        "\n",
        "\n",
        "                                        "
      ]
    },
    {
      "cell_type": "markdown",
      "metadata": {
        "id": "Sbo9IqQtpaHZ"
      },
      "source": [
        "#Modelo\n",
        "- ¿Como represento el espacio de soluciones?\n",
        "- ¿Cual es la función objetivo?\n",
        "- ¿Como implemento las restricciones?"
      ]
    },
    {
      "cell_type": "markdown",
      "metadata": {
        "id": "67p_vszBposu"
      },
      "source": []
    },
    {
      "cell_type": "code",
      "execution_count": 49,
      "metadata": {
        "id": "AiskKkzZfy4e"
      },
      "outputs": [
        {
          "name": "stdout",
          "output_type": "stream",
          "text": [
            "[]\n",
            "Optimal\n",
            "Valor de la función objetivo: 8.776000000000003\n",
            "Partido_('A',_1,_'B',_5,_'Domingo',_20): 1.0\n",
            "Partido_('A',_2,_'A',_3,_'Sábado',_20): 1.0\n",
            "Partido_('B',_1,_'B',_7,_'Sábado',_20): 1.0\n",
            "Partido_('B',_11,_'C',_3,_'Sábado',_20): 1.0\n",
            "Partido_('B',_2,_'B',_4,_'Domingo',_20): 1.0\n",
            "Partido_('B',_3,_'C',_4,_'Sábado',_20): 1.0\n",
            "Partido_('B',_6,_'B',_9,_'Domingo',_20): 1.0\n",
            "Partido_('B',_8,_'B',_10,_'Domingo',_20): 1.0\n",
            "Partido_('C',_1,_'C',_6,_'Lunes',_20): 1.0\n",
            "Partido_('C',_2,_'C',_5,_'Viernes',_20): 1.0\n",
            "PenalizacionHoraria_('Domingo',_20): 4.0\n",
            "PenalizacionHoraria_('Lunes',_20): 1.0\n",
            "PenalizacionHoraria_('Sábado',_20): 4.0\n",
            "PenalizacionHoraria_('Viernes',_20): 1.0\n"
          ]
        }
      ],
      "source": [
        "#%pip install PuLP\n",
        "#Librerias\n",
        "import pandas as pd\n",
        "import numpy as np\n",
        "from pulp import LpVariable, LpProblem, LpMaximize, lpSum, value, LpStatus\n",
        "\n",
        "# Crear un problema de optimización\n",
        "problema = LpProblem(\"Organizar los horarios de partidos de La Liga\", LpMaximize)\n",
        "\n",
        "# 1) Definir los Conjuntos y Parametros\n",
        "\n",
        "# 1.1) Definir la informacion de los equipos\n",
        "Categorias = [\"A\", \"B\", \"C\"]\n",
        "Equipos_categoria = {'A': 3, 'B': 11, 'C': 6}\n",
        "Audiencia = {'AA': 2.00, 'AB': 1.30, 'AC': 1.00,\n",
        "             'BA': 1.30, 'BB': 0.90, 'BC': 0.75,\n",
        "             'CA': 1.00, 'CB': 0.75, 'CC': 0.47}\n",
        "\n",
        "# 1.2) Definir días y horarios disponibles\n",
        "Dias = ['Viernes', 'Sábado', 'Domingo', 'Lunes']\n",
        "Horarios = {'Viernes': [20],\n",
        "            'Sábado': [12, 16, 18, 20],\n",
        "            'Domingo': [12, 16, 18, 20],\n",
        "            'Lunes': [20]}\n",
        "\n",
        "# 1.3) Coeficiente de disminución segun la franja horaria\n",
        "Coeficientes = {\n",
        "    'Viernes': {12: 0.00, 16: 0.00, 18: 0.00, 20: 0.40},\n",
        "    'Sábado':  {12: 0.55, 16: 0.70, 18: 0.80, 20: 1.00},\n",
        "    'Domingo': {12: 0.45, 16: 0.75, 18: 0.85, 20: 1.00},\n",
        "    'Lunes':   {12: 0.00, 16: 0.00, 18: 0.00, 20: 0.40}\n",
        "}\n",
        "\n",
        "# 1.4) Coeficiente de coincidencias\n",
        "Coincidencias = {0:0, 1:0.25, 2:0.45, 3:0.60, 4:0.70, 5:0.75, 6:0.78, 7:0.80, 8:0.80}\n",
        "\n",
        "\n",
        "\n",
        "# 2) Variables de decisión\n",
        "\n",
        "'''\n",
        "Se enumeran todas las posibles soluciones y no se tienen encuentas los partidos en donde\n",
        "el equipo 1 y el equipo 2 son el mismo ademas de quitar duplicidades en las combinaciones como A1 vs B5 = B5 va A1\n",
        "'''\n",
        "partidos = [(eq1, num_eq1, \n",
        "             eq2, num_eq2, \n",
        "             dia, horario) for eq1 in Categorias\n",
        "            for num_eq1 in range(1, Equipos_categoria[eq1]+ 1)\n",
        "            for eq2 in Categorias\n",
        "            for num_eq2 in range(1, Equipos_categoria[eq2]+ 1)\n",
        "            if (Categorias.index(eq1) <= Categorias.index(eq2)) and ((eq1 != eq2) or (num_eq1 != num_eq2)) and ((eq1 < eq2) or (eq1 == eq2 and num_eq1 < num_eq2))\n",
        "            for dia in Dias\n",
        "            for horario in Horarios[dia]]\n",
        "\n",
        "\n",
        "#Indica si el partido se juega o no para cada posible combinación\n",
        "x = LpVariable.dicts(\"Partido\", partidos, cat='Binary')\n",
        "\n",
        "horarios_partidos = [(dia, horario) for dia in Dias for horario in Horarios[dia]]\n",
        "y = LpVariable.dicts(\"PenalizacionHoraria\", horarios_partidos, lowBound=0, upBound=8, cat='Continuous')\n",
        "\n",
        "\n",
        "# 3) Función objetivo\n",
        "problema += lpSum((Coeficientes[dia][horario] * \n",
        "                   Audiencia[eq1 + eq2] * \n",
        "                   x[(eq1, num_eq1, eq2, num_eq2, dia, horario)])\n",
        "                  for eq1 in Categorias\n",
        "                  for num_eq1 in range(1, Equipos_categoria[eq1]+ 1)\n",
        "                  for eq2 in Categorias\n",
        "                  for num_eq2 in range(1, Equipos_categoria[eq2]+ 1)\n",
        "                  if (Categorias.index(eq1) <= Categorias.index(eq2)) and ((eq1 != eq2) or (num_eq1 != num_eq2)) and ((eq1 < eq2) or (eq1 == eq2 and num_eq1 < num_eq2))\n",
        "                  for dia in Dias\n",
        "                  for horario in Horarios[dia])\n",
        "\n",
        "\n",
        "# 4) Restricciones\n",
        "\n",
        "# 4.1) Cada equipo debe jugar al menos una unica vez\n",
        "for eq1 in Categorias:\n",
        "    for num_eq1 in range(1, Equipos_categoria[eq1] + 1):\n",
        "        problema += (lpSum(x[(eq1, num_eq1, eq2, num_eq2, dia, horario)]\n",
        "                          for eq2 in Categorias\n",
        "                          for num_eq2 in range(1, Equipos_categoria[eq2] + 1)\n",
        "                          if (Categorias.index(eq1) <= Categorias.index(eq2)) and ((eq1 != eq2) or (num_eq1 != num_eq2)) and ((eq1 < eq2) or (eq1 == eq2 and num_eq1 < num_eq2))\n",
        "                          for dia in Dias\n",
        "                          for horario in Horarios[dia]) + lpSum(x[(eq2, num_eq2, eq1, num_eq1, dia, horario)]\n",
        "                          for eq2 in Categorias\n",
        "                          for num_eq2 in range(1, Equipos_categoria[eq2] + 1)\n",
        "                          if (Categorias.index(eq2) <= Categorias.index(eq1)) and ((eq2 != eq1) or (num_eq2 != num_eq1)) and ((eq2 < eq1) or (eq2 == eq1 and num_eq2 < num_eq1))\n",
        "                          for dia in Dias\n",
        "                          for horario in Horarios[dia])) == 1\n",
        "\n",
        "# 4.2) Restricciones de obligatoriedad del viernes y lunes\n",
        "for dia in ['Viernes', 'Lunes']:\n",
        "    problema += lpSum(x[(eq1, num_eq1, eq2, num_eq2, dia, horario)]\n",
        "                      for eq1 in Categorias\n",
        "                      for num_eq1 in range(1, Equipos_categoria[eq1] + 1)\n",
        "                      for eq2 in Categorias\n",
        "                      for num_eq2 in range(1, Equipos_categoria[eq2] + 1)\n",
        "                      if (Categorias.index(eq1) <= Categorias.index(eq2)) and ((eq1 != eq2) or (num_eq1 != num_eq2)) and ((eq1 < eq2) or (eq1 == eq2 and num_eq1 < num_eq2))\n",
        "                      for horario in Horarios[dia]) >= 1\n",
        "    \n",
        "# 4.3) Asignar penalización horaria\n",
        "for dia in Dias:\n",
        "    for horario in Horarios[dia]:\n",
        "        penalizacion_coicidencias = lpSum(x[(eq1, num_eq1, eq2, num_eq2, dia, horario)]\n",
        "                  for eq1 in Categorias\n",
        "                  for num_eq1 in range(1, Equipos_categoria[eq1] + 1)\n",
        "                  for eq2 in Categorias\n",
        "                  for num_eq2 in range(1, Equipos_categoria[eq2] + 1)\n",
        "                  if (Categorias.index(eq1) <= Categorias.index(eq2)) and ((eq1 != eq2) or (num_eq1 != num_eq2)) and ((eq1 < eq2) or (eq1 == eq2 and num_eq1 < num_eq2))\n",
        "                  )\n",
        "        # Obtener los coeficientes y variables asociadas\n",
        "        coeficientes_variables = [(var, coef) for (coef, var) in penalizacion_coicidencias.items() if var > 1]\n",
        "\n",
        "# Imprimir la lista de coeficientes y variables asociadas\n",
        "print(coeficientes_variables)\n",
        "\n",
        "for dia in Dias:\n",
        "    for horario in Horarios[dia]:\n",
        "        problema += lpSum(y[(dia, horario)]) == lpSum(x[(eq1, num_eq1, eq2, num_eq2, dia, horario)]\n",
        "                                                      for eq1 in Categorias\n",
        "                                                      for num_eq1 in range(1, Equipos_categoria[eq1] + 1)\n",
        "                                                      for eq2 in Categorias\n",
        "                                                      for num_eq2 in range(1, Equipos_categoria[eq2] + 1)\n",
        "                                                      if (Categorias.index(eq1) <= Categorias.index(eq2)) and ((eq1 != eq2) or (num_eq1 != num_eq2)) and ((eq1 < eq2) or (eq1 == eq2 and num_eq1 < num_eq2)))\n",
        "\n",
        "# Resolver el problema\n",
        "status = problema.solve()\n",
        "print(LpStatus[status])\n",
        "\n",
        "# Imprimir el valor de la función objetivo\n",
        "print(\"Valor de la función objetivo:\", value(problema.objective))\n",
        "\n",
        "# Mostrar resultados\n",
        "for v in problema.variables():\n",
        "    if value(v) > 0:\n",
        "        print(f\"{v.name}: {value(v)}\")"
      ]
    },
    {
      "cell_type": "markdown",
      "metadata": {
        "id": "HZz52wOppp-U"
      },
      "source": [
        "#Análisis\n",
        "- ¿Que complejidad tiene el problema?. Orden de complejidad y Contabilizar el espacio de soluciones"
      ]
    },
    {
      "cell_type": "code",
      "execution_count": null,
      "metadata": {
        "id": "CZ-5BmpspttV"
      },
      "outputs": [],
      "source": [
        "#Respuesta\n"
      ]
    },
    {
      "cell_type": "markdown",
      "metadata": {
        "id": "ixEJUwH_pv7M"
      },
      "source": [
        "#Diseño\n",
        "- ¿Que técnica utilizo? ¿Por qué?"
      ]
    },
    {
      "cell_type": "code",
      "execution_count": null,
      "metadata": {
        "id": "ZdKPjB9gp2BA"
      },
      "outputs": [],
      "source": [
        "#Respuesta"
      ]
    }
  ],
  "metadata": {
    "colab": {
      "include_colab_link": true,
      "provenance": []
    },
    "kernelspec": {
      "display_name": "Python 3",
      "name": "python3"
    },
    "language_info": {
      "codemirror_mode": {
        "name": "ipython",
        "version": 3
      },
      "file_extension": ".py",
      "mimetype": "text/x-python",
      "name": "python",
      "nbconvert_exporter": "python",
      "pygments_lexer": "ipython3",
      "version": "3.11.5"
    }
  },
  "nbformat": 4,
  "nbformat_minor": 0
}
